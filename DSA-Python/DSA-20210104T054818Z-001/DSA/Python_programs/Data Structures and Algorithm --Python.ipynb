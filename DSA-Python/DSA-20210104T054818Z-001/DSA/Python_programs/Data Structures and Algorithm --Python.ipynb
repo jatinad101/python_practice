{
 "cells": [
  {
   "cell_type": "code",
   "execution_count": 2,
   "metadata": {},
   "outputs": [
    {
     "name": "stdout",
     "output_type": "stream",
     "text": [
      "nitaJ \t namaR\n"
     ]
    }
   ],
   "source": [
    "'''Reverse a string'''\n",
    "def reverse(string):\n",
    "    string = string[::-1]\n",
    "    return string\n",
    "\n",
    "def reversetwo(string):\n",
    "    str = \"\"\n",
    "    for i in string:\n",
    "        str = i + str\n",
    "    return str\n",
    "\n",
    "x = reverse(\"Jatin\")\n",
    "y = reversetwo(\"Raman\")\n",
    "print(x,\"\\t\",y)"
   ]
  },
  {
   "cell_type": "code",
   "execution_count": 3,
   "metadata": {},
   "outputs": [
    {
     "name": "stdout",
     "output_type": "stream",
     "text": [
      "Enter ur range::9\n",
      "0 1 1 2 3 5 8 13 21 "
     ]
    }
   ],
   "source": [
    "'''Fibonacci Series'''\n",
    "def fib(n):\n",
    "    if n<=1:\n",
    "        return n\n",
    "    else:\n",
    "        return fib(n-1)+fib(n-2)\n",
    "count = int(input(\"Enter ur range::\"))\n",
    "if count<=0:\n",
    "    print(\"Please enter value more than 2\")\n",
    "else:\n",
    "    for i in range(count):\n",
    "        print(fib(i),end=\" \")"
   ]
  },
  {
   "cell_type": "code",
   "execution_count": 5,
   "metadata": {},
   "outputs": [
    {
     "name": "stdout",
     "output_type": "stream",
     "text": [
      "Enter ur number::5\n",
      "Factorial is 120\n"
     ]
    }
   ],
   "source": [
    "'''Factorial of a Number'''\n",
    "def fact(n):\n",
    "    if n==1:\n",
    "        return n\n",
    "    else:\n",
    "        return n * fact(n-1)\n",
    "num=int(input(\"Enter ur number::\"))\n",
    "if num<0:\n",
    "    print(\"----No negative numbers---\")\n",
    "elif num==0:\n",
    "    print(\"Factorial is :: 1\")\n",
    "else:\n",
    "    print(\"Factorial is\",fact(num)) "
   ]
  },
  {
   "cell_type": "code",
   "execution_count": 5,
   "metadata": {},
   "outputs": [
    {
     "name": "stdout",
     "output_type": "stream",
     "text": [
      "Base value is::5\n",
      " Value is   :: 125\n"
     ]
    }
   ],
   "source": [
    "'''Power of a number'''\n",
    "def power(base,exp):\n",
    "    if(exp ==1):\n",
    "        return base\n",
    "    elif(exp!=1):\n",
    "        return (base*power(base,exp-1))\n",
    "base = int(input(\"Base value is::\"))\n",
    "exp = 3\n",
    "print(\" Value is   ::\",power(base,exp))"
   ]
  },
  {
   "cell_type": "code",
   "execution_count": 8,
   "metadata": {},
   "outputs": [
    {
     "name": "stdout",
     "output_type": "stream",
     "text": [
      "Combination is:: 10\n"
     ]
    }
   ],
   "source": [
    "'''Combinations'''\n",
    "def fact(n):\n",
    "    res = 1\n",
    "    for i in range(2,n+1):\n",
    "        res = res *i\n",
    "    return res\n",
    "def combination(n,r):\n",
    "    return (fact(n)/(fact(r)*fact(n-r))) \n",
    "n = 5\n",
    "r = 3\n",
    "print(\"Combination is::\",int(combination(n,r)))"
   ]
  },
  {
   "cell_type": "code",
   "execution_count": 10,
   "metadata": {},
   "outputs": [
    {
     "name": "stdout",
     "output_type": "stream",
     "text": [
      "Enter the number of disks::2\n",
      "Move disk1 from bar  A  to bar  B\n",
      "Move disk 2 from bar  A  to bar  C\n",
      "Move disk1 from bar  B  to bar  C\n",
      "None\n"
     ]
    }
   ],
   "source": [
    "'''Towers Of Hanoi'''\n",
    "def toh(n,from_bar,to_bar,aux_bar):\n",
    "    if n==1:\n",
    "        print(\"Move disk1 from bar \",from_bar,\" to bar \",to_bar)\n",
    "        return\n",
    "    toh(n-1,from_bar,aux_bar,to_bar)\n",
    "    print(\"Move disk\",n,\"from bar \",from_bar,\" to bar \",to_bar)\n",
    "    toh(n-1,aux_bar,to_bar,from_bar)\n",
    "n = int(input(\"Enter the number of disks::\"))\n",
    "print(toh(n,'A','C','B'))"
   ]
  },
  {
   "cell_type": "code",
   "execution_count": null,
   "metadata": {},
   "outputs": [],
   "source": []
  }
 ],
 "metadata": {
  "kernelspec": {
   "display_name": "Python 3",
   "language": "python",
   "name": "python3"
  },
  "language_info": {
   "codemirror_mode": {
    "name": "ipython",
    "version": 3
   },
   "file_extension": ".py",
   "mimetype": "text/x-python",
   "name": "python",
   "nbconvert_exporter": "python",
   "pygments_lexer": "ipython3",
   "version": "3.7.6"
  },
  "toc": {
   "base_numbering": 1,
   "nav_menu": {},
   "number_sections": true,
   "sideBar": true,
   "skip_h1_title": false,
   "title_cell": "Table of Contents",
   "title_sidebar": "Contents",
   "toc_cell": false,
   "toc_position": {},
   "toc_section_display": true,
   "toc_window_display": false
  }
 },
 "nbformat": 4,
 "nbformat_minor": 4
}
